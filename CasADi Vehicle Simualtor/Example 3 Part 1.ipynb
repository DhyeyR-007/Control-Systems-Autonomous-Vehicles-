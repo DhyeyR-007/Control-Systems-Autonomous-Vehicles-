{
 "cells": [
  {
   "cell_type": "markdown",
   "id": "df98f53c",
   "metadata": {},
   "source": [
    "# Part 1: Casadi \n",
    "\n",
    "Building a car simulator considering the tire model using Casadi.  \n",
    "\n",
    "1. Introduction to CasADi, \n",
    "\n",
    "2. Implement nonlinear optimization using Casadi, \n"
   ]
  },
  {
   "cell_type": "code",
   "execution_count": 1,
   "id": "40da0207",
   "metadata": {},
   "outputs": [],
   "source": [
    "%load_ext autoreload\n",
    "%autoreload 2\n",
    "# import sys\n",
    "# !{sys.executable} -m pip install casadi matplotlib scipy setuptools"
   ]
  },
  {
   "cell_type": "code",
   "execution_count": 2,
   "id": "1dbb18a2",
   "metadata": {},
   "outputs": [],
   "source": [
    "import casadi as ca\n",
    "import numpy as np\n",
    "import numpy.matlib, scipy\n",
    "import matplotlib.pyplot as plt\n",
    "import time"
   ]
  },
  {
   "cell_type": "markdown",
   "id": "3b2fd45e",
   "metadata": {},
   "source": [
    "# Introduction to CasADi\n",
    "\n",
    "CasADi is an open-source tool for nonlinear optimization and algorithmic differentiation.\n",
    "\n",
    "https://web.casadi.org/\n",
    "\n",
    "https://web.casadi.org/docs/#what-casadi-is-and-what-it-is-not\n",
    "\n",
    "<div>\n",
    "<img src=\"AD.png\" width=\"800\" align=\"left\"/>\n",
    "</div>\n"
   ]
  },
  {
   "cell_type": "markdown",
   "id": "22eaa407",
   "metadata": {},
   "source": [
    "# Why automatic differentiation ? \n",
    "\n",
    "In HW1, we derived the **symbolic** Jacobian of bicycle car model.\n",
    "\n",
    "Automatic differentiation is distinct from **symbolic differentiation** and **numerical differentiation**.\n",
    "\n",
    "Automatic differentiation exploits the fact that every computer calculation, no matter how complicated, executes a sequence of elementary arithmetic operations (addition, subtraction, multiplication, division, etc.) and elementary functions (exp, log, sin, cos, etc.).\n",
    "\n",
    "https://en.wikipedia.org/wiki/Automatic_differentiation"
   ]
  },
  {
   "cell_type": "markdown",
   "id": "78a18c5a",
   "metadata": {},
   "source": [
    "## Casadi symbolic framework\n",
    "\n",
    "### SX\n",
    "\n",
    "The SX data type is used to represent matrices whose elements consist of symbolic expressions made up by a sequence of unary and binary operations.\n",
    "\n",
    "### DM\n",
    "\n",
    "DM is very similar to SX, but with the difference that the nonzero elements are numerical values and not symbolic expressions. The syntax is also the same, except for functions such as SX.sym, which have no equivalents.\n",
    "\n",
    "### MX\n",
    "\n",
    "Instead, the elementary operations that are used to form MX expressions are allowed to be general multiple sparse-matrix valued input, multiple sparse-matrix valued output functions. \n",
    "\n",
    "In conclusion, SX manipulate each symbolic variable while MX manipulate the entire matrix / vector. "
   ]
  },
  {
   "cell_type": "code",
   "execution_count": 3,
   "id": "0b76115b",
   "metadata": {},
   "outputs": [
    {
     "name": "stdout",
     "output_type": "stream",
     "text": [
      "\n",
      "[[x_0, x_3], \n",
      " [x_1, x_4], \n",
      " [x_2, x_5]]\n",
      "@1=3, \n",
      "[[((@1*x_0)+y_0), ((@1*x_3)+y_3)], \n",
      " [((@1*x_1)+y_1), ((@1*x_4)+y_4)], \n",
      " [((@1*x_2)+y_2), ((@1*x_5)+y_5)]]\n",
      "(3, 2)\n",
      "@1=0, \n",
      "[[@1, @1, @1, @1, @1], \n",
      " [@1, @1, @1, @1, @1], \n",
      " [@1, @1, @1, @1, @1], \n",
      " [@1, @1, @1, @1, @1]]\n",
      "\n",
      "[[00, 00, 00, 00, 00], \n",
      " [00, 00, 00, 00, 00], \n",
      " [00, 00, 00, 00, 00], \n",
      " [00, 00, 00, 00, 00]]\n",
      "@1=1, \n",
      "[[@1, 00, 00, 00], \n",
      " [00, @1, 00, 00], \n",
      " [00, 00, @1, 00], \n",
      " [00, 00, 00, @1]]\n"
     ]
    }
   ],
   "source": [
    "## SX example\n",
    "\n",
    "x_SX = ca.SX.sym(\"x\", 3, 2)\n",
    "y_SX = ca.SX.sym(\"y\", 3, 2)\n",
    "\n",
    "f = x_SX * 3 + y_SX\n",
    "\n",
    "print(x_SX)\n",
    "print(f)\n",
    "print(f.shape)\n",
    "\n",
    "## Dense matrix\n",
    "B1 = ca.SX.zeros(4,5)\n",
    "print(B1)\n",
    "\n",
    "## Sparse matrix\n",
    "B2 = ca.SX(4,5)\n",
    "print(B2)\n",
    "\n",
    "## Sparse matrix\n",
    "B3 = ca.SX.eye(4)\n",
    "print(B3)"
   ]
  },
  {
   "cell_type": "code",
   "execution_count": 4,
   "id": "acbc95a8",
   "metadata": {},
   "outputs": [
    {
     "name": "stdout",
     "output_type": "stream",
     "text": [
      "[[0. 0. 0.]\n",
      " [0. 0. 0.]]\n",
      "\n"
     ]
    }
   ],
   "source": [
    "## DM example\n",
    "\n",
    "C = ca.DM(2, 3)\n",
    "# C = C + 10\n",
    "\n",
    "print(C.full())\n",
    "\n",
    "print(C.sparse())"
   ]
  },
  {
   "cell_type": "code",
   "execution_count": 5,
   "id": "4e117498",
   "metadata": {},
   "outputs": [
    {
     "name": "stdout",
     "output_type": "stream",
     "text": [
      "x\n",
      "((3*y)+x)\n",
      "(y*x)\n",
      "mac(y,x',zeros(3x3))\n",
      "x[3]\n"
     ]
    }
   ],
   "source": [
    "## MX example\n",
    "x_MX = ca.MX.sym('x', 3, 2)\n",
    "y_MX = ca.MX.sym('y', 3, 2)\n",
    "\n",
    "print(x_MX)\n",
    "print(3 * y_MX + x_MX)\n",
    "print(y_MX * x_MX)\n",
    "print(y_MX @ x_MX.T)\n",
    "\n",
    "print(x_MX[0, 1])"
   ]
  },
  {
   "cell_type": "code",
   "execution_count": 6,
   "id": "00ae5143",
   "metadata": {},
   "outputs": [],
   "source": [
    "## Mixing MX and SX\n",
    "# print(3 * y_SX + x_MX)"
   ]
  },
  {
   "cell_type": "markdown",
   "id": "3c745ee8",
   "metadata": {},
   "source": [
    "### Basic Arithmetic operations"
   ]
  },
  {
   "cell_type": "code",
   "execution_count": 7,
   "id": "87eb8b4f",
   "metadata": {},
   "outputs": [
    {
     "name": "stdout",
     "output_type": "stream",
     "text": [
      "\n",
      "[[(sin(y_0)-x), (sin(y_2)-x)], \n",
      " [(sin(y_1)-x), (sin(y_3)-x)]]\n"
     ]
    }
   ],
   "source": [
    "x = ca.SX.sym('x')\n",
    "y = ca.SX.sym('y',2,2)\n",
    "print(ca.sin(y)-x)"
   ]
  },
  {
   "cell_type": "code",
   "execution_count": 8,
   "id": "d79d6607",
   "metadata": {},
   "outputs": [
    {
     "name": "stdout",
     "output_type": "stream",
     "text": [
      "\n",
      "[[y_0, y_2], \n",
      " [y_1, y_3]]\n",
      "\n",
      "[[y_0, y_1], \n",
      " [y_2, y_3]]\n",
      "[y_0, y_1, y_2, y_3]\n"
     ]
    }
   ],
   "source": [
    "print(y)\n",
    "print(y.T)\n",
    "print(ca.reshape(y, 4, 1))"
   ]
  },
  {
   "cell_type": "code",
   "execution_count": 9,
   "id": "d06b2023",
   "metadata": {},
   "outputs": [
    {
     "name": "stdout",
     "output_type": "stream",
     "text": [
      "[x_0, x_1, x_2, y_0, y_1, y_2]\n",
      "\n",
      "[[x_0, y_0], \n",
      " [x_1, y_1], \n",
      " [x_2, y_2]]\n"
     ]
    }
   ],
   "source": [
    "x = ca.SX.sym('x', 3)\n",
    "y = ca.SX.sym('y', 3)\n",
    "\n",
    "print(ca.vertcat(x, y))\n",
    "print(ca.horzcat(x, y))"
   ]
  },
  {
   "cell_type": "code",
   "execution_count": 10,
   "id": "4b184467",
   "metadata": {},
   "outputs": [
    {
     "name": "stdout",
     "output_type": "stream",
     "text": [
      "\n",
      "[[x_0, x_6, x_12, x_18, x_24, x_30], \n",
      " [x_1, x_7, x_13, x_19, x_25, x_31], \n",
      " [x_2, x_8, x_14, x_20, x_26, x_32], \n",
      " [x_3, x_9, x_15, x_21, x_27, x_33], \n",
      " [x_4, x_10, x_16, x_22, x_28, x_34], \n",
      " [x_5, x_11, x_17, x_23, x_29, x_35]]\n",
      "\n",
      "[[x_0, x_6, x_12], \n",
      " [x_1, x_7, x_13], \n",
      " [x_2, x_8, x_14]]\n",
      "\n",
      "[[x_0, x_12, x_24], \n",
      " [x_2, x_14, x_26], \n",
      " [x_4, x_16, x_28]]\n"
     ]
    }
   ],
   "source": [
    "x = ca.SX.sym('x', 6, 6)\n",
    "\n",
    "print(x)\n",
    "print(x[0:3, 0:3])\n",
    "print(x[0::2, 0::2])"
   ]
  },
  {
   "cell_type": "code",
   "execution_count": 11,
   "id": "03ea073a",
   "metadata": {},
   "outputs": [
    {
     "name": "stdout",
     "output_type": "stream",
     "text": [
      "(((sq(x_0)+sq(x_1))+sq(x_2))+sq(x_3))\n"
     ]
    }
   ],
   "source": [
    "## matrix inner product\n",
    "x = ca.SX.sym('x', 2, 2)\n",
    "print(ca.dot(x, x))"
   ]
  },
  {
   "cell_type": "code",
   "execution_count": 12,
   "id": "091b04b4",
   "metadata": {},
   "outputs": [
    {
     "name": "stdout",
     "output_type": "stream",
     "text": [
      "(4, 5)\n",
      "4\n",
      "5\n"
     ]
    }
   ],
   "source": [
    "## query property\n",
    "A = ca.SX.sym('x', 4, 5)\n",
    "print(A.shape)\n",
    "print(A.size1())\n",
    "print(A.size2())"
   ]
  },
  {
   "cell_type": "markdown",
   "id": "ad43ca6f",
   "metadata": {},
   "source": [
    "### Calculus\n",
    "\n",
    "$$y = f(x), J:= \\frac{\\partial f}{\\partial x}$$"
   ]
  },
  {
   "cell_type": "code",
   "execution_count": 13,
   "id": "c6d43f91",
   "metadata": {},
   "outputs": [
    {
     "name": "stdout",
     "output_type": "stream",
     "text": [
      "\n",
      "[[A_0, A_3], \n",
      " [A_1, A_4], \n",
      " [A_2, A_5]]\n"
     ]
    }
   ],
   "source": [
    "A = ca.SX.sym('A',3,2)\n",
    "x = ca.SX.sym('x',2)\n",
    "print(ca.jacobian(A@x,x))"
   ]
  },
  {
   "cell_type": "markdown",
   "id": "b1632b14",
   "metadata": {},
   "source": [
    "Gradient for matrix. \n",
    "\n",
    "$$f = \\langle A, X\\rangle, \\frac{\\partial f}{\\partial X} = A$$"
   ]
  },
  {
   "cell_type": "code",
   "execution_count": 14,
   "id": "2590dbe5",
   "metadata": {},
   "outputs": [
    {
     "name": "stdout",
     "output_type": "stream",
     "text": [
      "\n",
      "[[(A_0+A_0), (A_3+A_3)], \n",
      " [(A_1+A_1), (A_4+A_4)], \n",
      " [(A_2+A_2), (A_5+A_5)]]\n"
     ]
    }
   ],
   "source": [
    "## Matrix gradients\n",
    "print(ca.gradient(ca.dot(A,A),A))"
   ]
  },
  {
   "cell_type": "markdown",
   "id": "cfb04926",
   "metadata": {},
   "source": [
    "Hessian: \n",
    "\n",
    "$$f(x) \\approx f(\\bar{x}) + \\frac{\\partial f(x)}{\\partial x}|_{x=\\bar{x}} + \\frac{1}{2}(x - \\bar{x})^{T} \\frac{\\partial^2 f}{\\partial^2 x}(x - \\bar{x}) $$"
   ]
  },
  {
   "cell_type": "code",
   "execution_count": 15,
   "id": "7e5365b5",
   "metadata": {},
   "outputs": [
    {
     "name": "stdout",
     "output_type": "stream",
     "text": [
      "H: @1=2, \n",
      "[[@1, 00], \n",
      " [00, @1]]\n"
     ]
    }
   ],
   "source": [
    "## Matrix gradients\n",
    "[H,g] = ca.hessian(ca.dot(x,x),x)\n",
    "print('H:', H)"
   ]
  },
  {
   "cell_type": "markdown",
   "id": "3fd34d86",
   "metadata": {},
   "source": [
    "## Casadi Function Object\n",
    "\n",
    "### Create custom function\n",
    "\n",
    "<!-- ### Create integrator\n",
    "\n",
    "### Solve NLP -->"
   ]
  },
  {
   "cell_type": "code",
   "execution_count": 16,
   "id": "106d9229",
   "metadata": {},
   "outputs": [
    {
     "name": "stdout",
     "output_type": "stream",
     "text": [
      "f:(i0[2],i1)->(o0[2],o1[2]) SXFunction\n"
     ]
    },
    {
     "data": {
      "text/plain": [
       "array([[0.],\n",
       "       [1.]])"
      ]
     },
     "execution_count": 16,
     "metadata": {},
     "output_type": "execute_result"
    }
   ],
   "source": [
    "x = ca.SX.sym('x',2)\n",
    "y = ca.SX.sym('y')\n",
    "f = ca.Function('f',[x,y], [x,ca.sin(y)*x])\n",
    "\n",
    "## define the function\n",
    "## pay attention to the output\n",
    "print(f)\n",
    "\n",
    "## recover the value\n",
    "f([0., 1], [1])[0].full()"
   ]
  },
  {
   "cell_type": "markdown",
   "id": "9029e6a0",
   "metadata": {},
   "source": [
    "### Piece-wise function"
   ]
  },
  {
   "cell_type": "code",
   "execution_count": 17,
   "id": "fd3824b3",
   "metadata": {},
   "outputs": [
    {
     "data": {
      "text/plain": [
       "<matplotlib.legend.Legend at 0x20ca1bcef70>"
      ]
     },
     "execution_count": 17,
     "metadata": {},
     "output_type": "execute_result"
    },
    {
     "data": {
      "image/png": "[encoded data removed]",
      "text/plain": [
       "<Figure size 432x288 with 1 Axes>"
      ]
     },
     "metadata": {
      "needs_background": "light"
     },
     "output_type": "display_data"
    }
   ],
   "source": [
    "x = ca.SX.sym('x', 1)\n",
    "\n",
    "Relu = ca.if_else(x>0, \n",
    "                  x, \n",
    "                  0)\n",
    "J_Relu = ca.jacobian(Relu, x)\n",
    "\n",
    "Fun_Relu = ca.Function(\"ReLu\", [x], [Relu])\n",
    "Fun_Jac_Relu = ca.Function(\"ReLu\", [x], [J_Relu])\n",
    "\n",
    "\n",
    "x_num = np.linspace(-2, 2, 1000)\n",
    "y_num = Fun_Relu(x_num)\n",
    "dy_num = Fun_Jac_Relu(x_num)\n",
    "\n",
    "plt.plot(x_num, y_num,  label = \"ReLu\")\n",
    "plt.plot(x_num, dy_num, label = \"dReLu\")\n",
    "plt.grid(\"on\")\n",
    "plt.legend()"
   ]
  },
  {
   "cell_type": "markdown",
   "id": "3ac79764",
   "metadata": {},
   "source": [
    "### Creating integrators\n",
    "\n",
    "$$\n",
    "\\begin{equation}\n",
    "\\begin{aligned}\n",
    "\\dot{x} &= y \\\\\n",
    "\\dot{y} &= p(1 - x^2)y - x \\\\\n",
    "\\end{aligned}\n",
    "\\end{equation}\n",
    "$$"
   ]
  },
  {
   "cell_type": "code",
   "execution_count": 18,
   "id": "93271fda",
   "metadata": {},
   "outputs": [
    {
     "data": {
      "image/png": "[encoded data removed]",
      "text/plain": [
       "<Figure size 432x288 with 1 Axes>"
      ]
     },
     "metadata": {
      "needs_background": "light"
     },
     "output_type": "display_data"
    },
    {
     "data": {
      "image/png": "[encoded data removed]",
      "text/plain": [
       "<Figure size 432x288 with 1 Axes>"
      ]
     },
     "metadata": {
      "needs_background": "light"
     },
     "output_type": "display_data"
    }
   ],
   "source": [
    "x = ca.SX.sym('x', 2, 1) \n",
    "z = ca.SX.sym('z') \n",
    "\n",
    "ode = ca.vertcat(  x[1],\n",
    "                   1. * (1 - x[0]**2) * x[1] - x[0]\n",
    "                )\n",
    "dae = {'x':x, \n",
    "       'ode':ode, \n",
    "       }\n",
    "Ts = np.linspace(0, 20, 1000)\n",
    "F = ca.integrator('F', 'cvodes', dae, {'grid':Ts, 'output_t0':True})\n",
    "\n",
    "x_init = np.array([3, 0])\n",
    "sol = F(x0 = x_init)\n",
    "\n",
    "plt.plot(x_init[0], x_init[1], \"r.\", label = \"Initial state\")\n",
    "plt.plot(0.0, 0.0, \"g.\", label = \"Origin\")\n",
    "\n",
    "plt.plot(sol[\"xf\"].full()[0, :], sol[\"xf\"].full()[1, :], label = \"Trajectory\")\n",
    "plt.legend()\n",
    "plt.grid(\"on\")\n",
    "plt.show()\n",
    "\n",
    "plt.plot(Ts, sol[\"xf\"].full()[0, :], label = \"$x$\")\n",
    "plt.plot(Ts, sol[\"xf\"].full()[1, :], label = \"$\\dot{x}$\")\n",
    "plt.grid(\"on\")\n",
    "plt.legend()\n",
    "plt.show()"
   ]
  },
  {
   "cell_type": "markdown",
   "id": "35792685",
   "metadata": {},
   "source": [
    "### Consider the bicycle car model in HW1. \n",
    "\n",
    "Note, the jacobian is obtained by AD, thus not able to extract a symbplic expression. "
   ]
  },
  {
   "cell_type": "code",
   "execution_count": 19,
   "id": "dd592624",
   "metadata": {},
   "outputs": [
    {
     "name": "stdout",
     "output_type": "stream",
     "text": [
      "\n",
      "[[1, 00, 0.00280789, 0.00525236, 00, 0.000349965], \n",
      " [00, 1, -0.00173312, 0.00850956, 00, -0.000216009], \n",
      " [00, 00, 1, 0.00440413, 00, -0.000369229], \n",
      " [00, 00, 00, 1, 0.01, 00]]\n"
     ]
    }
   ],
   "source": [
    "h = 0.01\n",
    "x_model = ca.SX.sym('xm', (4, 1))\n",
    "u_model = ca.SX.sym('um', (2, 1))\n",
    "t = ca.SX.sym('t', 1)\n",
    "\n",
    "L_f = 1.0\n",
    "L_r = 1.0\n",
    "\n",
    "beta = ca.atan(L_r / (L_r + L_f) * ca.atan(u_model[1]))\n",
    "\n",
    "xdot = ca.vertcat(x_model[3] * ca.cos(x_model[2] + beta),\n",
    "                    x_model[3] * ca.sin(x_model[2] + beta),\n",
    "                    x_model[3] / L_r * ca.sin(beta),\n",
    "                    u_model[0])\n",
    "\n",
    "Fun_dynamics_dt = ca.Function('f_dt', [x_model, u_model], [xdot * h + x_model])\n",
    "Jac_dynamics_dt = ca.jacobian(xdot * h + x_model, ca.veccat(x_model, u_model))\n",
    "Fun_Jac_dt = ca.Function('J_dt', [x_model, u_model], [Jac_dynamics_dt])\n",
    "\n",
    "print(Fun_Jac_dt(np.random.randn(4, 1), np.random.randn(2, 1)))"
   ]
  },
  {
   "cell_type": "markdown",
   "id": "21304a02",
   "metadata": {},
   "source": [
    "We can use the algebraic variable in Casadi to compute the control variables in the simulation"
   ]
  },
  {
   "cell_type": "code",
   "execution_count": 20,
   "id": "8a969836",
   "metadata": {},
   "outputs": [
    {
     "data": {
      "image/png": "[encoded data removed]",
      "text/plain": [
       "<Figure size 360x360 with 1 Axes>"
      ]
     },
     "metadata": {
      "needs_background": "light"
     },
     "output_type": "display_data"
    },
    {
     "data": {
      "image/png": "[encoded data removed]",
      "text/plain": [
       "<Figure size 432x288 with 1 Axes>"
      ]
     },
     "metadata": {
      "needs_background": "light"
     },
     "output_type": "display_data"
    },
    {
     "data": {
      "image/png": "[encoded data removed]",
      "text/plain": [
       "<Figure size 432x288 with 1 Axes>"
      ]
     },
     "metadata": {
      "needs_background": "light"
     },
     "output_type": "display_data"
    }
   ],
   "source": [
    "dae = {'x':x_model, \n",
    "       't':t,\n",
    "       'p':u_model[1],\n",
    "       'z':u_model[0],\n",
    "       'alg': ca.vertcat(0.5 * (1 - x_model[3]) - u_model[0], ), \n",
    "       'ode':xdot, \n",
    "       }\n",
    "Ts = np.linspace(0, 40, 1000)\n",
    "F = ca.integrator('F', 'idas', dae, {'grid':Ts, 'output_t0':True})\n",
    "\n",
    "x_init = np.array([0, 0, 0, 0])\n",
    "sol = F(x0 = x_init, p = np.array([0.3]))\n",
    "\n",
    "plt.figure(figsize=(5, 5))\n",
    "plt.plot(x_init[0], x_init[1], \"r.\", label = \"initial state\")\n",
    "plt.plot(sol[\"xf\"].full()[0, :], sol[\"xf\"].full()[1, :], label = \"trajectory\")\n",
    "plt.legend()\n",
    "plt.axis(\"scaled\")\n",
    "plt.grid(\"on\")\n",
    "plt.show()\n",
    "\n",
    "plt.plot(Ts, sol[\"xf\"].full()[3, :], label = \"$v$\")\n",
    "plt.plot(Ts, sol[\"xf\"].full()[2, :], label = \"$\\psi$\")\n",
    "plt.legend()\n",
    "plt.grid(\"on\")\n",
    "plt.show()\n",
    "\n",
    "plt.plot(Ts, sol[\"zf\"].full()[0, :], label = \"Acceleration\")\n",
    "plt.legend()\n",
    "plt.grid(\"on\")\n",
    "plt.show()"
   ]
  },
  {
   "cell_type": "markdown",
   "id": "d4fd3a69",
   "metadata": {},
   "source": [
    "### 1-D interpolation"
   ]
  },
  {
   "cell_type": "code",
   "execution_count": 21,
   "id": "5b0e0964",
   "metadata": {},
   "outputs": [
    {
     "data": {
      "image/png": "[encoded data removed]",
      "text/plain": [
       "<Figure size 720x360 with 1 Axes>"
      ]
     },
     "metadata": {
      "needs_background": "light"
     },
     "output_type": "display_data"
    }
   ],
   "source": [
    "x = np.linspace(0, np.pi * 2, 5)\n",
    "y = np.sin(x)\n",
    "\n",
    "lookuptable = ca.interpolant(\"LUT\", \"bspline\", [x], y)\n",
    "\n",
    "plt.figure(figsize=(10, 5))\n",
    "plt.plot(x, y, \"r.\", label = \"sample\")\n",
    "x = np.linspace(0, np.pi * 2, 100)\n",
    "\n",
    "plt.plot(x, lookuptable(x), \"--\", label = \"1D - inpterp\")\n",
    "plt.plot(x, np.sin(x),  \"-\",  label = \"ground truth\")\n",
    "\n",
    "plt.legend()\n",
    "plt.grid(\"on\")"
   ]
  },
  {
   "cell_type": "markdown",
   "id": "92ac2abd",
   "metadata": {},
   "source": [
    "# Optimization\n",
    "\n",
    "Casadi support nonlinear programming of the following form:\n",
    "\n",
    "$$\n",
    "\\begin{equation}\n",
    "\\begin{aligned}\n",
    "\n",
    "J = &\\min_{x} f(x, p) \\\\\n",
    " \\quad & lb_g \\le g(x, p) \\le ub_g \\\\\n",
    " \\quad & lb_x \\le x \\le ub_x\n",
    "\\end{aligned}\n",
    "\\end{equation}\n",
    "$$\n",
    "\n",
    "with:\n",
    "\n",
    "$$x\\in \\mathbb{R}^n, g\\in \\mathbb{R}^m, p \\in \\mathbb{R}^q$$"
   ]
  },
  {
   "cell_type": "code",
   "execution_count": 22,
   "id": "ba7deec8",
   "metadata": {},
   "outputs": [
    {
     "name": "stdout",
     "output_type": "stream",
     "text": [
      "\n",
      "******************************************************************************\n",
      "This program contains Ipopt, a library for large-scale nonlinear optimization.\n",
      " Ipopt is released as open source code under the Eclipse Public License (EPL).\n",
      "         For more information visit http://projects.coin-or.org/Ipopt\n",
      "******************************************************************************\n",
      "\n",
      "This is Ipopt version 3.12.3, running with linear solver mumps.\n",
      "NOTE: Other linear solvers might be more efficient (see Ipopt documentation).\n",
      "\n",
      "Number of nonzeros in equality constraint Jacobian...:        2\n",
      "Number of nonzeros in inequality constraint Jacobian.:        2\n",
      "Number of nonzeros in Lagrangian Hessian.............:        3\n",
      "\n",
      "Total number of variables............................:        2\n",
      "                     variables with only lower bounds:        0\n",
      "                variables with lower and upper bounds:        0\n",
      "                     variables with only upper bounds:        0\n",
      "Total number of equality constraints.................:        1\n",
      "Total number of inequality constraints...............:        1\n",
      "        inequality constraints with only lower bounds:        1\n",
      "   inequality constraints with lower and upper bounds:        0\n",
      "        inequality constraints with only upper bounds:        0\n",
      "\n",
      "iter    objective    inf_pr   inf_du lg(mu)  ||d||  lg(rg) alpha_du alpha_pr  ls\n",
      "   0 0.0000000e+000 1.00e+000 1.00e+000  -1.0 0.00e+000    -  0.00e+000 0.00e+000   0\n",
      "   1 1.5180703e+000 2.32e-001 3.95e+008  -1.0 1.11e+000    -  9.90e-001 1.00e+000h  1\n",
      "   2 9.1720733e-001 1.38e-002 8.65e+008  -1.0 1.05e-001  10.0 1.00e+000 1.00e+000f  1\n",
      "   3 8.9187743e-001 4.67e-005 9.29e+006  -1.0 7.19e-003    -  1.00e+000 1.00e+000h  1\n",
      "   4 8.9179090e-001 5.46e-010 2.17e+002  -1.0 2.42e-005    -  1.00e+000 1.00e+000h  1\n",
      "   5 8.5961118e-001 2.43e-004 3.39e+000  -1.0 1.56e-002    -  1.00e+000 1.00e+000f  1\n",
      "   6 5.0768568e-001 3.58e-002 2.18e+000  -1.0 1.89e-001    -  3.86e-001 1.00e+000f  1\n",
      "   7 4.4751644e-001 4.12e-004 6.30e+007  -1.0 1.96e-002   9.5 1.00e+000 1.00e+000h  1\n",
      "   8 4.4707538e-001 4.25e-008 2.27e+004  -1.0 2.53e-004    -  1.00e+000 1.00e+000h  1\n",
      "   9 4.4688522e-001 9.34e-009 2.20e+000  -1.0 9.32e-005    -  1.00e+000 1.00e+000h  1\n",
      "iter    objective    inf_pr   inf_du lg(mu)  ||d||  lg(rg) alpha_du alpha_pr  ls\n",
      "  10 2.9995484e-002 3.46e-001 1.19e+000  -1.0 5.68e-001    -  5.45e-001 1.00e+000f  1\n",
      "  11 3.9964883e-004 3.56e-002 5.81e-002  -1.0 2.09e-001    -  1.00e+000 1.00e+000h  1\n",
      "  12 3.7581923e-006 5.63e-004 5.70e-003  -2.5 2.69e-002    -  1.00e+000 1.00e+000h  1\n",
      "  13 7.6573980e-010 1.48e-006 3.13e-005  -3.8 1.11e-003    -  1.00e+000 1.00e+000h  1\n",
      "  14 4.8778322e-014 2.53e-010 7.52e-009  -5.7 1.29e-005    -  1.00e+000 1.00e+000h  1\n",
      "  15 8.8029044e-020 1.60e-014 6.47e-013  -8.6 9.88e-008    -  1.00e+000 1.00e+000h  1\n",
      "\n",
      "Number of Iterations....: 15\n",
      "\n",
      "                                   (scaled)                 (unscaled)\n",
      "Objective...............:  8.8029044107981477e-020   8.8029044107981477e-020\n",
      "Dual infeasibility......:  6.4749359007033628e-013   6.4749359007033628e-013\n",
      "Constraint violation....:  1.5987211554602254e-014   1.5987211554602254e-014\n",
      "Complementarity.........:  2.5060006300474834e-009   2.5060006300474834e-009\n",
      "Overall NLP error.......:  2.5060006300474834e-009   2.5060006300474834e-009\n",
      "\n",
      "\n",
      "Number of objective function evaluations             = 16\n",
      "Number of objective gradient evaluations             = 16\n",
      "Number of equality constraint evaluations            = 16\n",
      "Number of inequality constraint evaluations          = 16\n",
      "Number of equality constraint Jacobian evaluations   = 16\n",
      "Number of inequality constraint Jacobian evaluations = 16\n",
      "Number of Lagrangian Hessian evaluations             = 15\n",
      "Total CPU secs in IPOPT (w/o function evaluations)   =      0.000\n",
      "Total CPU secs in NLP function evaluations           =      0.000\n",
      "\n",
      "EXIT: Optimal Solution Found.\n",
      "      solver  :   t_proc      (avg)   t_wall      (avg)    n_eval\n",
      "       nlp_f  |        0 (       0)        0 (       0)        16\n",
      "       nlp_g  |        0 (       0)        0 (       0)        16\n",
      "  nlp_grad_f  |        0 (       0)        0 (       0)        17\n",
      "  nlp_hess_l  |        0 (       0)        0 (       0)        15\n",
      "   nlp_jac_g  |        0 (       0)        0 (       0)        17\n",
      "       total  |        0 (       0)        0 (       0)         1\n",
      "0.7861513776531158\n",
      "0.6180339888825889\n"
     ]
    }
   ],
   "source": [
    "opti = ca.Opti()\n",
    "\n",
    "x = opti.variable()\n",
    "y = opti.variable()\n",
    "\n",
    "opti.minimize(  (y-x**2)**2   )\n",
    "opti.subject_to( x**2+y**2==1 )\n",
    "opti.subject_to(       x+y>=1 )\n",
    "\n",
    "opti.solver('ipopt')\n",
    "\n",
    "\n",
    "sol = opti.solve()\n",
    "\n",
    "print(sol.value(x))\n",
    "print(sol.value(y))"
   ]
  },
  {
   "cell_type": "code",
   "execution_count": 23,
   "id": "8f377d3a",
   "metadata": {},
   "outputs": [
    {
     "data": {
      "text/plain": [
       "{'f': DM(6.40848e-022),\n",
       " 'g': DM([6.52043e-030, 1]),\n",
       " 'lam_g': DM([1.05879e-022, 5.0625e-011]),\n",
       " 'lam_p': DM([-5.10703e-015, -5.06299e-011]),\n",
       " 'lam_x': DM([5.01181e-015, 5.01188e-015]),\n",
       " 'x': DM([1, 1])}"
      ]
     },
     "execution_count": 23,
     "metadata": {},
     "output_type": "execute_result"
    }
   ],
   "source": [
    "## define varaible\n",
    "x = ca.MX.sym('x', (2, 1))\n",
    "\n",
    "## define parameters\n",
    "p = ca.MX.sym('p', (2, 1))\n",
    "\n",
    "## define objective function\n",
    "J = (x[0] - p[0])**2 + (x[1] - p[1])**2\n",
    "\n",
    "## define constraints\n",
    "## lb <= G(x) <= ub\n",
    "cons_NLP = [(x[0] - 1)**2,\n",
    "            x[1]]\n",
    "cons_NLP = ca.vertcat(*cons_NLP)\n",
    "\n",
    "## define problem\n",
    "prob = {\"x\": x, \"p\":p, \"f\": J, \"g\":cons_NLP}\n",
    "\n",
    "## define solver\n",
    "opts = {'ipopt.print_level': 0, 'print_time': 0} # , 'ipopt.sb': 'yes'}\n",
    "solver = ca.nlpsol('solver', 'ipopt', prob , opts)\n",
    "\n",
    "\n",
    "## get the numbers\n",
    "lb_var = np.array([-1000, -1000])\n",
    "ub_var = np.array([1000, 1000])\n",
    "\n",
    "lb_cons = np.array([-10, -10])\n",
    "ub_cons = np.array([10, 10])\n",
    "\n",
    "x0_nlp = np.array([-10, 10])\n",
    "lamx0_nlp = np.array([-0, 0])\n",
    "lamg0_nlp = np.array([-0, 0])\n",
    "par_nlp = np.array([1, 1])\n",
    "\n",
    "sol = solver(x0=x0_nlp, lam_x0=lamx0_nlp, lam_g0=lamg0_nlp,\n",
    "                     lbx=lb_var, ubx=ub_var, lbg=lb_cons, ubg=ub_cons, p = par_nlp)\n",
    "\n",
    "sol"
   ]
  },
  {
   "cell_type": "markdown",
   "id": "e944c203",
   "metadata": {},
   "source": [
    "## Nonlinear MPC example\n",
    "\n",
    "### Consider the dubin car model for motion generation\n",
    "\n",
    "$$\n",
    "\\begin{equation}\n",
    "\\begin{aligned}\n",
    "\\dot{x} &= v \\cos(\\theta) \\\\\n",
    "\\dot{y} &= v \\sin(\\theta) \\\\\n",
    "\\dot{\\theta} &= w \\\\\n",
    "\\dot{v} &= a \\\\\n",
    "\\end{aligned}\n",
    "\\end{equation}\n",
    "$$"
   ]
  },
  {
   "cell_type": "code",
   "execution_count": 24,
   "id": "c873c2f5",
   "metadata": {},
   "outputs": [],
   "source": [
    "T = 4.\n",
    "N = 40\n",
    "\n",
    "h = T / N\n",
    "Dim_ctrl =  2\n",
    "Dim_state = 4"
   ]
  },
  {
   "cell_type": "code",
   "execution_count": 25,
   "id": "4a8dcd9d",
   "metadata": {},
   "outputs": [],
   "source": [
    "xm = ca.MX.sym(\"xm\", (Dim_state, 1))\n",
    "um = ca.MX.sym(\"um\", (Dim_ctrl , 1))\n",
    "\n",
    "xdot = ca.vertcat(\n",
    "    xm[3] * ca.cos(xm[2]),\n",
    "    xm[3] * ca.sin(xm[2]),\n",
    "    um[0],\n",
    "    um[1]\n",
    ")\n",
    "\n",
    "Fun_dynamics_dt = ca.Function('f_dt', [xm, um], [xdot * h + xm])"
   ]
  },
  {
   "cell_type": "code",
   "execution_count": 26,
   "id": "85970d8e",
   "metadata": {},
   "outputs": [],
   "source": [
    "state_ub = np.array([ 1e4,  1e4,  1e4,  1e4])\n",
    "state_lb = np.array([-1e4, -1e4, -1e4, -1e4])\n",
    "ctrl_ub  = np.array([ 1,  1])\n",
    "ctrl_lb  = np.array([-1, -1])\n",
    "\n",
    "# upper bound and lower bound\n",
    "ub_x = np.matlib.repmat(state_ub, N + 1, 1)\n",
    "lb_x = np.matlib.repmat(state_lb, N + 1, 1)\n",
    "\n",
    "ub_u = np.matlib.repmat(ctrl_ub, N, 1)\n",
    "lb_u = np.matlib.repmat(ctrl_lb, N, 1)\n",
    "\n",
    "ub_var = np.concatenate((ub_u.reshape((Dim_ctrl * N, 1)), ub_x.reshape((Dim_state * (N+1), 1))))\n",
    "lb_var = np.concatenate((lb_u.reshape((Dim_ctrl * N, 1)), lb_x.reshape((Dim_state * (N+1), 1))))"
   ]
  },
  {
   "cell_type": "code",
   "execution_count": 27,
   "id": "e85bb5f9",
   "metadata": {},
   "outputs": [],
   "source": [
    "# Declare model variables\n",
    "x = ca.MX.sym('x', (Dim_state, N + 1))\n",
    "u = ca.MX.sym('u', (Dim_ctrl , N))\n",
    "p = ca.MX.sym('p', (Dim_state, 1))\n",
    "\n",
    "# dynamics constraints\n",
    "cons_dynamics = []\n",
    "ub_dynamics = np.zeros((N * Dim_state, 1))\n",
    "lb_dynamics = np.zeros((N * Dim_state, 1))\n",
    "for k in range(N):\n",
    "    Fx = Fun_dynamics_dt(x[:, k], u[:, k])\n",
    "    for j in range(Dim_state):\n",
    "        cons_dynamics.append(x[j, k+1] -  Fx[j])\n",
    "\n",
    "# state constraints: G(x) <= 0\n",
    "alpha = 0.9\n",
    "cons_state = []\n",
    "for k in range(N):\n",
    "    # cons_state.append( 9 - ((x[0, k] - 4)**2 + (x[1, k] - 4)**2) )\n",
    "    Bk   = 9 - ((x[0, k] - 4)**2 + (x[1, k] - 4)**2)\n",
    "    Bkp1 = 9 - ((x[0, k+1] - 4)**2 + (x[1, k+1] - 4)**2)\n",
    "\n",
    "    ## discrete time control barrier function\n",
    "    cons_state.append( Bkp1 - alpha* Bk )\n",
    "    # cons_state.append( 9 - ((x[0, k] - 4)**2 + (x[1, k] - 4)**2) )\n",
    "\n",
    "ub_state_cons = np.zeros((len(cons_state), 1))\n",
    "lb_state_cons = np.zeros((len(cons_state), 1)) - 1e5\n",
    "\n",
    "# cost function: \n",
    "J = 100 * ((x[0, -1] - 10)**2 + (x[1, -1] - 10)**2)  + 100 * x[2, -1]**2 + 100 * x[3, -1]**2\n",
    "for k in range(N):\n",
    "    J = J + 10 * ((x[0, k] - 10)**2 + (x[1, k] - 10)**2) + 10 * x[2, k]**2 + 10 * x[3, k]**2\n",
    "    J = J + 1 * (u[0, k]**2 + u[1, k]**2)\n",
    "\n",
    "# initial constraints\n",
    "cons_init = [x[:, 0] - p]\n",
    "lb_init_cons = np.zeros((Dim_state, 1))\n",
    "ub_init_cons = np.zeros((Dim_state, 1))\n",
    "\n",
    "vars_NLP   = ca.vertcat(u.reshape((Dim_ctrl * N, 1)), x.reshape((Dim_state * (N+1), 1)))\n",
    "cons_NLP = cons_dynamics + cons_state + cons_init\n",
    "cons_NLP = ca.vertcat(*cons_NLP)\n",
    "lb_cons = np.concatenate((lb_dynamics, lb_state_cons, lb_init_cons))\n",
    "ub_cons = np.concatenate((ub_dynamics, ub_state_cons, ub_init_cons))\n",
    "\n",
    "n_x = vars_NLP.shape[0]\n",
    "n_g = cons_NLP.shape[0]\n",
    "\n",
    "# Create an NLP solver\n",
    "prob = {\"x\": vars_NLP, \"p\":p, \"f\": J, \"g\":cons_NLP}\n",
    "opts = {'ipopt.print_level': 0, 'print_time': 0} # , 'ipopt.sb': 'yes'}\n",
    "solver = ca.nlpsol('solver', 'ipopt', prob , opts)"
   ]
  },
  {
   "cell_type": "code",
   "execution_count": 28,
   "id": "aea69092",
   "metadata": {},
   "outputs": [
    {
     "data": {
      "image/png": "[encoded data removed]",
      "text/plain": [
       "<Figure size 432x432 with 1 Axes>"
      ]
     },
     "metadata": {
      "needs_background": "light"
     },
     "output_type": "display_data"
    }
   ],
   "source": [
    "x0_nlp    = np.random.randn(n_x, 1) * 0\n",
    "lamx0_nlp = np.random.randn(n_x, 1) * 0\n",
    "lamg0_nlp = np.random.randn(n_g, 1) * 0\n",
    "\n",
    "par_nlp = np.array([0, 0, 0, 0])# np.random.randn(Dim_state, 1)\n",
    "\n",
    "sol = solver(x0=x0_nlp, lam_x0=lamx0_nlp, lam_g0=lamg0_nlp,\n",
    "                     lbx=lb_var, ubx=ub_var, lbg=lb_cons, ubg=ub_cons, p = par_nlp)\n",
    "\n",
    "x = sol[\"x\"].full()[N*Dim_ctrl:]\n",
    "\n",
    "plt.figure(figsize=(6, 6))\n",
    "plt.plot(x[0::Dim_state], x[1::Dim_state], \"-o\")\n",
    "plt.plot(x[0], x[1], \"ro\")\n",
    "plt.plot(3 * np.cos(np.linspace(0, np.pi*2, 100)) + 4, 3 * np.sin(np.linspace(0, np.pi*2, 100)) + 4, \"r\")\n",
    "plt.axis('scaled')\n",
    "plt.grid(\"on\")"
   ]
  },
  {
   "cell_type": "code",
   "execution_count": 29,
   "id": "e764a8c7",
   "metadata": {},
   "outputs": [],
   "source": [
    "N_sim = 400\n",
    "x_log = np.zeros((N_sim + 1, Dim_state))\n",
    "u_log = np.zeros((N_sim, Dim_ctrl))\n",
    "\n",
    "x0_nlp    = np.zeros((n_x, 1))\n",
    "lamx0_nlp = np.zeros((n_x, 1))\n",
    "lamg0_nlp = np.zeros((n_g, 1))\n",
    "\n",
    "x_log[0, :] = np.array([0, 0, 0, 0])\n",
    "\n",
    "N_test = N_sim\n",
    "for k in range(N_test):# range(N_sim):\n",
    "    \n",
    "    par_nlp = x_log[k, :]\n",
    "    \n",
    "    sol = solver(x0=x0_nlp, lam_x0=lamx0_nlp, lam_g0=lamg0_nlp,\n",
    "                     lbx=lb_var, ubx=ub_var, lbg=lb_cons, ubg=ub_cons, p = par_nlp)\n",
    "\n",
    "    x0_nlp = sol[\"x\"].full()\n",
    "    lamx0_nlp = sol[\"lam_x\"].full()\n",
    "    lamg0_nlp = sol[\"lam_g\"].full()\n",
    "    \n",
    "    uk = sol[\"x\"].full()[0:Dim_ctrl]\n",
    "    xkp1 = Fun_dynamics_dt(x_log[k, :], uk)\n",
    "\n",
    "    x_log[k + 1, :] = np.squeeze(xkp1)\n",
    "    u_log[k, :]     = np.squeeze(uk)\n",
    "\n",
    "x = sol[\"x\"].full()[N*Dim_ctrl:]"
   ]
  },
  {
   "cell_type": "code",
   "execution_count": 30,
   "id": "cc4f71b4",
   "metadata": {},
   "outputs": [
    {
     "data": {
      "image/png": "[encoded data removed]",
      "text/plain": [
       "<Figure size 432x432 with 1 Axes>"
      ]
     },
     "metadata": {
      "needs_background": "light"
     },
     "output_type": "display_data"
    }
   ],
   "source": [
    "plt.figure(figsize=(6, 6))\n",
    "plt.plot(x_log[:, 0], x_log[:, 1], \"-o\")\n",
    "plt.plot(x_log[0, 0], x_log[0, 1], \"r.\")\n",
    "plt.plot(3 * np.cos(np.linspace(0, np.pi*2, 100)) + 4, 3 * np.sin(np.linspace(0, np.pi*2, 100)) + 4, \"r\")\n",
    "\n",
    "plt.title(\"Trajectory\")\n",
    "plt.ylabel(\"y\")\n",
    "plt.xlabel(\"x\")\n",
    "plt.axis('scaled')\n",
    "plt.grid(\"on\")"
   ]
  },
  {
   "cell_type": "code",
   "execution_count": 31,
   "id": "34d15cd2",
   "metadata": {},
   "outputs": [
    {
     "data": {
      "image/png": "[encoded data removed]",
      "text/plain": [
       "<Figure size 1440x360 with 1 Axes>"
      ]
     },
     "metadata": {
      "needs_background": "light"
     },
     "output_type": "display_data"
    },
    {
     "data": {
      "image/png": "[encoded data removed]",
      "text/plain": [
       "<Figure size 1440x360 with 1 Axes>"
      ]
     },
     "metadata": {
      "needs_background": "light"
     },
     "output_type": "display_data"
    }
   ],
   "source": [
    "plt.figure(figsize=(20, 5))\n",
    "plt.plot(x_log[:, 2], label = \"$theta$\")\n",
    "plt.plot(x_log[:, 3], label = \"$v$\")\n",
    "plt.legend()\n",
    "plt.grid(\"on\")\n",
    "plt.xlabel(\"time(s)\")\n",
    "plt.show()\n",
    "\n",
    "plt.figure(figsize=(20, 5))\n",
    "plt.plot(u_log[:, 0], label = \"$w$\")\n",
    "plt.plot(u_log[:, 1], label = \"$a$\")\n",
    "plt.title(\"Input\")\n",
    "plt.legend()\n",
    "plt.grid(\"on\")\n",
    "plt.xlabel(\"time(s)\")\n",
    "plt.show()"
   ]
  }
 ],
 "metadata": {
  "kernelspec": {
   "display_name": "base",
   "language": "python",
   "name": "python3"
  },
  "language_info": {
   "codemirror_mode": {
    "name": "ipython",
    "version": 3
   },
   "file_extension": ".py",
   "mimetype": "text/x-python",
   "name": "python",
   "nbconvert_exporter": "python",
   "pygments_lexer": "ipython3",
   "version": "3.9.12"
  }
 },
 "nbformat": 4,
 "nbformat_minor": 5
}
